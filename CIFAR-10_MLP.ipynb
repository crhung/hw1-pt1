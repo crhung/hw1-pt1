{
 "cells": [
  {
   "cell_type": "code",
   "execution_count": 8,
   "metadata": {},
   "outputs": [],
   "source": [
    "from __future__ import print_function\n",
    "\n",
    "import keras\n",
    "from keras.optimizers import SGD\n",
    "from keras.datasets import cifar10\n",
    "from keras.models import Sequential\n",
    "from keras.layers import Dense, Dropout\n",
    "from keras.optimizers import RMSprop"
   ]
  },
  {
   "cell_type": "code",
   "execution_count": 9,
   "metadata": {
    "collapsed": true
   },
   "outputs": [],
   "source": [
    "batch_size = 128\n",
    "num_classes = 10\n",
    "epochs = 20"
   ]
  },
  {
   "cell_type": "code",
   "execution_count": 10,
   "metadata": {},
   "outputs": [
    {
     "name": "stdout",
     "output_type": "stream",
     "text": [
      "50000 train samples\n",
      "10000 test samples\n"
     ]
    }
   ],
   "source": [
    "# the data, shuffled and split between train and test sets\n",
    "(x_train, y_train), (x_test, y_test) = cifar10.load_data()\n",
    "x_train = x_train.reshape(x_train.shape[0],3072)\n",
    "x_test = x_test.reshape(x_test.shape[0], 3072)\n",
    "x_train = x_train.astype('float32')\n",
    "x_test = x_test.astype('float32')\n",
    "x_train /= 255\n",
    "x_test /= 255\n",
    "print(x_train.shape[0], 'train samples')\n",
    "print(x_test.shape[0], 'test samples')"
   ]
  },
  {
   "cell_type": "code",
   "execution_count": 11,
   "metadata": {
    "collapsed": true
   },
   "outputs": [],
   "source": [
    "# convert class vectors to binary class matrices\n",
    "y_train = keras.utils.to_categorical(y_train, num_classes)\n",
    "y_test = keras.utils.to_categorical(y_test, num_classes)"
   ]
  },
  {
   "cell_type": "code",
   "execution_count": 12,
   "metadata": {
    "collapsed": true
   },
   "outputs": [],
   "source": [
    "model = Sequential()\n",
    "model.add(Dense(512, activation='relu', input_shape=(3072,)))\n",
    "model.add(Dense(512, activation='relu', input_shape=(3072,)))\n",
    "model.add(Dropout(0.2))\n",
    "model.add(Dense(512, activation='relu'))\n",
    "model.add(Dropout(0.2))\n",
    "model.add(Dense(num_classes, activation='softmax'))\n",
    "opt = keras.optimizers.rmsprop(lr=0.0001, decay=1e-6)"
   ]
  },
  {
   "cell_type": "code",
   "execution_count": 13,
   "metadata": {},
   "outputs": [
    {
     "name": "stdout",
     "output_type": "stream",
     "text": [
      "_________________________________________________________________\n",
      "Layer (type)                 Output Shape              Param #   \n",
      "=================================================================\n",
      "dense_4 (Dense)              (None, 512)               1573376   \n",
      "_________________________________________________________________\n",
      "dense_5 (Dense)              (None, 512)               262656    \n",
      "_________________________________________________________________\n",
      "dropout_3 (Dropout)          (None, 512)               0         \n",
      "_________________________________________________________________\n",
      "dense_6 (Dense)              (None, 512)               262656    \n",
      "_________________________________________________________________\n",
      "dropout_4 (Dropout)          (None, 512)               0         \n",
      "_________________________________________________________________\n",
      "dense_7 (Dense)              (None, 10)                5130      \n",
      "=================================================================\n",
      "Total params: 2,103,818\n",
      "Trainable params: 2,103,818\n",
      "Non-trainable params: 0\n",
      "_________________________________________________________________\n"
     ]
    }
   ],
   "source": [
    "\n",
    "model.summary()\n",
    "\n",
    "model.compile(loss='categorical_crossentropy',\n",
    "              optimizer=RMSprop(),\n",
    "              metrics=['accuracy'])"
   ]
  },
  {
   "cell_type": "code",
   "execution_count": 14,
   "metadata": {},
   "outputs": [
    {
     "name": "stdout",
     "output_type": "stream",
     "text": [
      "Train on 50000 samples, validate on 10000 samples\n",
      "Epoch 1/20\n",
      "50000/50000 [==============================] - 5s - loss: 2.1307 - acc: 0.2553 - val_loss: 1.8359 - val_acc: 0.3231\n",
      "Epoch 2/20\n",
      "50000/50000 [==============================] - 4s - loss: 1.8291 - acc: 0.3414 - val_loss: 1.7455 - val_acc: 0.3821\n",
      "Epoch 3/20\n",
      "50000/50000 [==============================] - 4s - loss: 1.7317 - acc: 0.3790 - val_loss: 1.6843 - val_acc: 0.3912\n",
      "Epoch 4/20\n",
      "50000/50000 [==============================] - 5s - loss: 1.6670 - acc: 0.4041 - val_loss: 1.7804 - val_acc: 0.3573\n",
      "Epoch 5/20\n",
      "50000/50000 [==============================] - 5s - loss: 1.6231 - acc: 0.4197 - val_loss: 1.6470 - val_acc: 0.4063\n",
      "Epoch 6/20\n",
      "50000/50000 [==============================] - 4s - loss: 1.5944 - acc: 0.4339 - val_loss: 1.6218 - val_acc: 0.4241\n",
      "Epoch 7/20\n",
      "50000/50000 [==============================] - 4s - loss: 1.5634 - acc: 0.4453 - val_loss: 1.6034 - val_acc: 0.4366\n",
      "Epoch 8/20\n",
      "50000/50000 [==============================] - 4s - loss: 1.5417 - acc: 0.4513 - val_loss: 1.5596 - val_acc: 0.4411\n",
      "Epoch 9/20\n",
      "50000/50000 [==============================] - 5s - loss: 1.5228 - acc: 0.4587 - val_loss: 1.5314 - val_acc: 0.4527\n",
      "Epoch 10/20\n",
      "50000/50000 [==============================] - 5s - loss: 1.5073 - acc: 0.4632 - val_loss: 1.5121 - val_acc: 0.4634\n",
      "Epoch 11/20\n",
      "50000/50000 [==============================] - 5s - loss: 1.4923 - acc: 0.4706 - val_loss: 1.5662 - val_acc: 0.4431\n",
      "Epoch 12/20\n",
      "50000/50000 [==============================] - 5s - loss: 1.4871 - acc: 0.4716 - val_loss: 1.5838 - val_acc: 0.4438\n",
      "Epoch 13/20\n",
      "50000/50000 [==============================] - 5s - loss: 1.4794 - acc: 0.4776 - val_loss: 1.5800 - val_acc: 0.4399\n",
      "Epoch 14/20\n",
      "50000/50000 [==============================] - 5s - loss: 1.4727 - acc: 0.4769 - val_loss: 1.4940 - val_acc: 0.4685\n",
      "Epoch 15/20\n",
      "50000/50000 [==============================] - 5s - loss: 1.4670 - acc: 0.4811 - val_loss: 1.5506 - val_acc: 0.4540\n",
      "Epoch 16/20\n",
      "50000/50000 [==============================] - 5s - loss: 1.4602 - acc: 0.4830 - val_loss: 1.5512 - val_acc: 0.4686\n",
      "Epoch 17/20\n",
      "50000/50000 [==============================] - 5s - loss: 1.4595 - acc: 0.4849 - val_loss: 1.5354 - val_acc: 0.4677\n",
      "Epoch 18/20\n",
      "50000/50000 [==============================] - 5s - loss: 1.4597 - acc: 0.4862 - val_loss: 1.5559 - val_acc: 0.4541\n",
      "Epoch 19/20\n",
      "50000/50000 [==============================] - 5s - loss: 1.4513 - acc: 0.4879 - val_loss: 1.4998 - val_acc: 0.4744\n",
      "Epoch 20/20\n",
      "50000/50000 [==============================] - 5s - loss: 1.4492 - acc: 0.4862 - val_loss: 1.5339 - val_acc: 0.4743\n",
      "Test loss: 1.53394935513\n",
      "Test accuracy: 0.4743\n"
     ]
    }
   ],
   "source": [
    "history = model.fit(x_train, y_train,\n",
    "                    batch_size=batch_size,\n",
    "                    epochs=epochs,\n",
    "                    verbose=1,\n",
    "                    validation_data=(x_test, y_test))\n",
    "score = model.evaluate(x_test, y_test, verbose=0)\n",
    "print('Test loss:', score[0])\n",
    "print('Test accuracy:', score[1])"
   ]
  },
  {
   "cell_type": "code",
   "execution_count": null,
   "metadata": {
    "collapsed": true
   },
   "outputs": [],
   "source": []
  },
  {
   "cell_type": "code",
   "execution_count": null,
   "metadata": {
    "collapsed": true
   },
   "outputs": [],
   "source": []
  }
 ],
 "metadata": {
  "kernelspec": {
   "display_name": "Python 3",
   "language": "python",
   "name": "python3"
  },
  "language_info": {
   "codemirror_mode": {
    "name": "ipython",
    "version": 3
   },
   "file_extension": ".py",
   "mimetype": "text/x-python",
   "name": "python",
   "nbconvert_exporter": "python",
   "pygments_lexer": "ipython3",
   "version": "3.6.2"
  }
 },
 "nbformat": 4,
 "nbformat_minor": 2
}
